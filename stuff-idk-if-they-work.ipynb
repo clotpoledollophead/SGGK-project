{
 "cells": [
  {
   "cell_type": "code",
   "execution_count": null,
   "metadata": {},
   "outputs": [],
   "source": [
    "%pip install cltk  # analyzes historical and classical texts, including Middle English\n",
    "%pip install nltk \n",
    "%pip install spacy  # advanced text processing (can be customized for Middle English).\n",
    "%pip install unidecode  # normalizing text by converting non-standard characters to their closest ASCII equivalents\n",
    "%pip install gensim  # topic modeling, text similarity analysis, and other advanced linguistic tasks\n",
    "%pip install scikit-learn\n",
    "%pip install matplotlib seaborn\n",
    "%pip install pandas\n",
    "%pip install pytesseract  # enabling digitization of scanned texts (OCR)"
   ]
  },
  {
   "cell_type": "code",
   "execution_count": 2,
   "metadata": {},
   "outputs": [],
   "source": [
    "import cltk\n",
    "import nltk\n",
    "import spacy as sp\n",
    "import unidecode as ud\n",
    "import gensim as gm\n",
    "import sklearn\n",
    "import matplotlib.pyplot as plt\n",
    "import seaborn as sns\n",
    "import pandas as pd\n",
    "import pytesseract as pt\n",
    "from collections import Counter\n",
    "import requests\n",
    "import os"
   ]
  },
  {
   "cell_type": "code",
   "execution_count": 3,
   "metadata": {},
   "outputs": [],
   "source": [
    "text_files = [\"corpus/passus-i-sggk.txt\", \"corpus/passus-ii-sggk.txt\", \"corpus/passus-iii-sggk.txt\", \"corpus/passus-iv-sggk.txt\"]"
   ]
  },
  {
   "cell_type": "markdown",
   "metadata": {},
   "source": [
    "<h1>Lexical Diversity</h1>\n",
    "\n",
    "Did it, works! see [Lexical Diversity](lexical_diversity.ipynb)"
   ]
  },
  {
   "cell_type": "code",
   "execution_count": null,
   "metadata": {},
   "outputs": [],
   "source": [
    "def lexical_diversity(text):\n",
    "    tokens = text.split()\n",
    "    unique_tokens = set(tokens)\n",
    "    return len(unique_tokens) / len(tokens)\n",
    "\n",
    "# Example usage\n",
    "ttr = lexical_diversity(your_text)\n",
    "print(f\"Type-Token Ratio: {ttr:.2f}\")"
   ]
  },
  {
   "cell_type": "markdown",
   "metadata": {},
   "source": [
    "<h1>Alliteration and Repetition</h1>\n",
    "\n",
    "Will revisit."
   ]
  },
  {
   "cell_type": "code",
   "execution_count": null,
   "metadata": {},
   "outputs": [],
   "source": [
    "import re\n",
    "from collections import Counter\n",
    "\n",
    "def alliteration_count(text):\n",
    "    lines = text.split(\"\\n\")\n",
    "    alliteration_counts = []\n",
    "    for line in lines:\n",
    "        words = line.split()\n",
    "        first_letters = [word[0] for word in words if word.isalpha()]\n",
    "        alliteration_counts.append(len([letter for letter, count in Counter(first_letters).items() if count > 1]))\n",
    "    return sum(alliteration_counts)\n",
    "\n",
    "# Example usage\n",
    "count = alliteration_count(your_text)\n",
    "print(f\"Alliteration Count: {count}\")"
   ]
  },
  {
   "cell_type": "markdown",
   "metadata": {},
   "source": [
    "<h1>Topic Modeling</h1>"
   ]
  },
  {
   "cell_type": "code",
   "execution_count": null,
   "metadata": {},
   "outputs": [],
   "source": [
    "from gensim.corpora.dictionary import Dictionary\n",
    "from gensim.models import LdaModel\n",
    "\n",
    "texts = [your_text.split()]\n",
    "dictionary = Dictionary(texts)\n",
    "corpus = [dictionary.doc2bow(text) for text in texts]\n",
    "\n",
    "lda = LdaModel(corpus, num_topics=3, id2word=dictionary)\n",
    "print(lda.print_topics())"
   ]
  },
  {
   "cell_type": "markdown",
   "metadata": {},
   "source": [
    "<h1>Visualization</h1>\n",
    "\n",
    "- word frequency heatmaps\n",
    "- network graphs of word associations"
   ]
  },
  {
   "cell_type": "markdown",
   "metadata": {},
   "source": [
    "<Alliteration and Repetition>"
   ]
  }
 ],
 "metadata": {
  "kernelspec": {
   "display_name": "Python 3",
   "language": "python",
   "name": "python3"
  },
  "language_info": {
   "codemirror_mode": {
    "name": "ipython",
    "version": 3
   },
   "file_extension": ".py",
   "mimetype": "text/x-python",
   "name": "python",
   "nbconvert_exporter": "python",
   "pygments_lexer": "ipython3",
   "version": "3.10.12"
  }
 },
 "nbformat": 4,
 "nbformat_minor": 2
}
