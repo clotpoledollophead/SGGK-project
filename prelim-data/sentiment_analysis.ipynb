{
 "cells": [
  {
   "cell_type": "code",
   "execution_count": 6,
   "metadata": {},
   "outputs": [],
   "source": [
    "from textblob import TextBlob\n",
    "import os"
   ]
  },
  {
   "cell_type": "code",
   "execution_count": 7,
   "metadata": {},
   "outputs": [],
   "source": [
    "text_files = [\"corpus/passus-i-sggk.txt\", \"corpus/passus-ii-sggk.txt\", \"corpus/passus-iii-sggk.txt\", \"corpus/passus-iv-sggk.txt\"]"
   ]
  },
  {
   "cell_type": "code",
   "execution_count": 9,
   "metadata": {},
   "outputs": [
    {
     "name": "stdout",
     "output_type": "stream",
     "text": [
      "Processing: corpus/passus-i-sggk.txt\n",
      "Sentiment(polarity=0.22305881307746975, subjectivity=0.4464641080312722)\n",
      "Processing: corpus/passus-ii-sggk.txt\n",
      "Sentiment(polarity=0.24217894138174753, subjectivity=0.3980622552051125)\n",
      "Processing: corpus/passus-iii-sggk.txt\n",
      "Sentiment(polarity=0.2746455983709273, subjectivity=0.4235867446393763)\n",
      "Processing: corpus/passus-iv-sggk.txt\n",
      "Sentiment(polarity=0.12361949988328666, subjectivity=0.3921568627450979)\n"
     ]
    }
   ],
   "source": [
    "for filepath in text_files:\n",
    "    with open(filepath, \"r\", encoding=\"utf-8\") as f:\n",
    "        print(f\"Processing: {filepath}\")\n",
    "        text = f.read().lower()\n",
    "        blob = TextBlob(text)\n",
    "    print(blob.sentiment)"
   ]
  },
  {
   "cell_type": "markdown",
   "metadata": {},
   "source": [
    "- polarity: how negative or positive the tone of the input text is (-1 as most negative and +1 as most positive)\n",
    "- subjectivity: how subjective the statement is (1 as highly sunjective)"
   ]
  },
  {
   "cell_type": "code",
   "execution_count": 12,
   "metadata": {},
   "outputs": [
    {
     "name": "stdout",
     "output_type": "stream",
     "text": [
      "Sentiment(polarity=0.0, subjectivity=0.0)\n"
     ]
    }
   ],
   "source": [
    "ex_text = \"SIÞEN þe sege and þe assaut watz sesed at Troye, Þe borȝ brittened and brent to brondeȝ and askez, Þe tulk þat þe trammes of tresoun þer wroȝt Watz tried for his tricherie, þe trewest on erthe\"\n",
    "blob = TextBlob(ex_text)\n",
    "print(blob.sentiment)"
   ]
  },
  {
   "cell_type": "markdown",
   "metadata": {},
   "source": [
    "can we try various trnaslations of sggk?"
   ]
  }
 ],
 "metadata": {
  "kernelspec": {
   "display_name": "Python 3",
   "language": "python",
   "name": "python3"
  },
  "language_info": {
   "codemirror_mode": {
    "name": "ipython",
    "version": 3
   },
   "file_extension": ".py",
   "mimetype": "text/x-python",
   "name": "python",
   "nbconvert_exporter": "python",
   "pygments_lexer": "ipython3",
   "version": "3.10.12"
  }
 },
 "nbformat": 4,
 "nbformat_minor": 2
}
